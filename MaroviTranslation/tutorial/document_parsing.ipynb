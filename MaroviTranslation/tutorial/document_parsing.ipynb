{
 "cells": [
  {
   "cell_type": "code",
   "execution_count": 19,
   "metadata": {},
   "outputs": [],
   "source": [
    "from MaroviTranslation.formatters.markdown import Document"
   ]
  },
  {
   "cell_type": "code",
   "execution_count": 20,
   "metadata": {},
   "outputs": [
    {
     "name": "stdout",
     "output_type": "stream",
     "text": [
      "The autoreload extension is already loaded. To reload it, use:\n",
      "  %reload_ext autoreload\n"
     ]
    }
   ],
   "source": [
    "# Autoreload modules\n",
    "%load_ext autoreload\n",
    "%autoreload 2"
   ]
  },
  {
   "cell_type": "code",
   "execution_count": 21,
   "metadata": {},
   "outputs": [],
   "source": [
    "import json"
   ]
  },
  {
   "cell_type": "code",
   "execution_count": 22,
   "metadata": {},
   "outputs": [],
   "source": [
    "loaded_doc = Document.load_from_markdown(\"document.md\")"
   ]
  },
  {
   "cell_type": "code",
   "execution_count": 23,
   "metadata": {},
   "outputs": [
    {
     "name": "stdout",
     "output_type": "stream",
     "text": [
      "JSON Representation of the Document:\n",
      "[\n",
      "  {\n",
      "    \"title\": \"Introduction\",\n",
      "    \"content\": [\n",
      "      {\n",
      "        \"type\": \"paragraph\",\n",
      "        \"text\": \"This is the introduction to the document.\",\n",
      "        \"path\": null,\n",
      "        \"description\": null,\n",
      "        \"metadata\": {}\n",
      "      }\n",
      "    ],\n",
      "    \"subsections\": []\n",
      "  },\n",
      "  {\n",
      "    \"title\": \"Section 1\",\n",
      "    \"content\": [\n",
      "      {\n",
      "        \"type\": \"paragraph\",\n",
      "        \"text\": \"This is the first paragraph of Section 1.\",\n",
      "        \"path\": null,\n",
      "        \"description\": null,\n",
      "        \"metadata\": {}\n",
      "      },\n",
      "      {\n",
      "        \"type\": \"image\",\n",
      "        \"text\": null,\n",
      "        \"path\": \"sunset.jpg\",\n",
      "        \"description\": \"Image of a sunset\",\n",
      "        \"metadata\": {}\n",
      "      },\n",
      "      {\n",
      "        \"type\": \"paragraph\",\n",
      "        \"text\": \"This is the second paragraph of Section 1.\",\n",
      "        \"path\": null,\n",
      "        \"description\": null,\n",
      "        \"metadata\": {}\n",
      "      }\n",
      "    ],\n",
      "    \"subsections\": [\n",
      "      {\n",
      "        \"title\": \"Subsection 1.1\",\n",
      "        \"content\": [\n",
      "          {\n",
      "            \"type\": \"paragraph\",\n",
      "            \"text\": \"This is the content of Subsection 1.1.\",\n",
      "            \"path\": null,\n",
      "            \"description\": null,\n",
      "            \"metadata\": {}\n",
      "          }\n",
      "        ],\n",
      "        \"subsections\": []\n",
      "      },\n",
      "      {\n",
      "        \"title\": \"Subsection 1.2\",\n",
      "        \"content\": [\n",
      "          {\n",
      "            \"type\": \"paragraph\",\n",
      "            \"text\": \"This is the content of Subsection 1.2.\",\n",
      "            \"path\": null,\n",
      "            \"description\": null,\n",
      "            \"metadata\": {}\n",
      "          },\n",
      "          {\n",
      "            \"type\": \"image\",\n",
      "            \"text\": null,\n",
      "            \"path\": \"sunrise.jpg\",\n",
      "            \"description\": \"Image of a sunrise\",\n",
      "            \"metadata\": {}\n",
      "          }\n",
      "        ],\n",
      "        \"subsections\": []\n",
      "      }\n",
      "    ]\n",
      "  },\n",
      "  {\n",
      "    \"title\": \"Section 2\",\n",
      "    \"content\": [\n",
      "      {\n",
      "        \"type\": \"paragraph\",\n",
      "        \"text\": \"This is the first paragraph of Section 2.\",\n",
      "        \"path\": null,\n",
      "        \"description\": null,\n",
      "        \"metadata\": {}\n",
      "      },\n",
      "      {\n",
      "        \"type\": \"image\",\n",
      "        \"text\": null,\n",
      "        \"path\": \"mountain.jpg\",\n",
      "        \"description\": \"Image of a mountain\",\n",
      "        \"metadata\": {}\n",
      "      }\n",
      "    ],\n",
      "    \"subsections\": [\n",
      "      {\n",
      "        \"title\": \"Subsection 2.1\",\n",
      "        \"content\": [\n",
      "          {\n",
      "            \"type\": \"paragraph\",\n",
      "            \"text\": \"This is the content of Subsection 2.1.\",\n",
      "            \"path\": null,\n",
      "            \"description\": null,\n",
      "            \"metadata\": {}\n",
      "          }\n",
      "        ],\n",
      "        \"subsections\": []\n",
      "      }\n",
      "    ]\n",
      "  }\n",
      "]\n"
     ]
    }
   ],
   "source": [
    "# Convert the loaded document back to JSON and print it\n",
    "document_json = loaded_doc.to_json()\n",
    "print(\"JSON Representation of the Document:\")\n",
    "print(json.dumps(document_json, indent=2))"
   ]
  },
  {
   "cell_type": "code",
   "execution_count": 24,
   "metadata": {},
   "outputs": [
    {
     "name": "stdout",
     "output_type": "stream",
     "text": [
      "\n",
      "Markdown Representation of the Document:\n",
      "# Introduction\n",
      "This is the introduction to the document.\n",
      "\n",
      "# Section 1\n",
      "This is the first paragraph of Section 1.\n",
      "\n",
      "![Image of a sunset](sunset.jpg)\n",
      "\n",
      "This is the second paragraph of Section 1.\n",
      "\n",
      "## Subsection 1.1\n",
      "This is the content of Subsection 1.1.\n",
      "\n",
      "## Subsection 1.2\n",
      "This is the content of Subsection 1.2.\n",
      "\n",
      "![Image of a sunrise](sunrise.jpg)\n",
      "\n",
      "# Section 2\n",
      "This is the first paragraph of Section 2.\n",
      "\n",
      "![Image of a mountain](mountain.jpg)\n",
      "\n",
      "## Subsection 2.1\n",
      "This is the content of Subsection 2.1.\n",
      "\n",
      "\n"
     ]
    }
   ],
   "source": [
    "# Convert the loaded document back to Markdown and print it\n",
    "document_markdown = loaded_doc.to_markdown()\n",
    "print(\"\\nMarkdown Representation of the Document:\")\n",
    "print(document_markdown)"
   ]
  }
 ],
 "metadata": {
  "kernelspec": {
   "display_name": "marovitranslation",
   "language": "python",
   "name": "python3"
  },
  "language_info": {
   "codemirror_mode": {
    "name": "ipython",
    "version": 3
   },
   "file_extension": ".py",
   "mimetype": "text/x-python",
   "name": "python",
   "nbconvert_exporter": "python",
   "pygments_lexer": "ipython3",
   "version": "3.12.0"
  }
 },
 "nbformat": 4,
 "nbformat_minor": 2
}
